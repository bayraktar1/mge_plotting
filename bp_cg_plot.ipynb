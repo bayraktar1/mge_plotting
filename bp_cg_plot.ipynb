{
 "cells": [
  {
   "metadata": {},
   "cell_type": "markdown",
   "source": "# Imports",
   "id": "8a7940c4eaa4fab1"
  },
  {
   "metadata": {},
   "cell_type": "code",
   "outputs": [],
   "execution_count": null,
   "source": [
    "import pandas as pd\n",
    "import plotly.express as px"
   ],
   "id": "initial_id"
  },
  {
   "metadata": {},
   "cell_type": "markdown",
   "source": "# Input files",
   "id": "ae0e25b35d1c111b"
  },
  {
   "metadata": {},
   "cell_type": "code",
   "source": [
    "# mge_cluster_result_file = \"results_shigella_flexneri/shigella-flexneri_results.csv\"\n",
    "# metadata_file = \"results_shigella_flexneri/metadata.csv\"\n",
    "# bp_cg_file = \"results_shigella_flexneri/bp_cg.results\"\n",
    "# organism = \"Shigella flexneri\"\n",
    "\n",
    "mge_cluster_result_file = \"results_enterobacter/enterobacter_cloacae_results.csv\"\n",
    "metadata_file = \"results_enterobacter/metadata.csv\"\n",
    "bp_cg_file = \"results_enterobacter/bp_cg.results\"\n",
    "organism = \"Enterobacter cloacae\""
   ],
   "id": "1a7d840bb63a6605",
   "outputs": [],
   "execution_count": null
  },
  {
   "metadata": {},
   "cell_type": "markdown",
   "source": "# Read in the data",
   "id": "a567ef91235cec69"
  },
  {
   "metadata": {},
   "cell_type": "code",
   "source": [
    "x = []\n",
    "y = []\n",
    "cluster = []\n",
    "mem_prob = []\n",
    "name = []\n",
    "accession = []\n",
    "\n",
    "with open(mge_cluster_result_file) as file:\n",
    "    header = file.readline()\n",
    "    print(header)\n",
    "    for line in file:\n",
    "        line = line.strip('\\n').split(',')\n",
    "        if line[0] == \"-\":\n",
    "            continue\n",
    "        x.append(float(line[0]))\n",
    "        y.append(float(line[1]))\n",
    "        cluster.append(int(line[2]))\n",
    "        mem_prob.append(float(line[3]))\n",
    "        name.append(str(line[4]))\n",
    "        accession.append(str(line[4].split(\"_\")[0]))\n",
    "        \n",
    "cluster_df = pd.DataFrame({\n",
    "        'cluster' : cluster,\n",
    "        'Accession' : accession\n",
    "})"
   ],
   "id": "260c22f1798987ce",
   "outputs": [],
   "execution_count": null
  },
  {
   "metadata": {},
   "cell_type": "code",
   "source": "cluster_df",
   "id": "b011f8ffc0e5af5e",
   "outputs": [],
   "execution_count": null
  },
  {
   "metadata": {},
   "cell_type": "markdown",
   "source": "# Read in CG and BP information",
   "id": "bb893150a0860cf9"
  },
  {
   "metadata": {},
   "cell_type": "code",
   "source": "cp_cg_df = pd.read_csv(bp_cg_file, sep=\"\\t\")",
   "id": "ecaf7a6d49589f7a",
   "outputs": [],
   "execution_count": null
  },
  {
   "metadata": {},
   "cell_type": "code",
   "source": [
    "print(cp_cg_df.size)\n",
    "cp_cg_df"
   ],
   "id": "eb15d1d4f5aa4e44",
   "outputs": [],
   "execution_count": null
  },
  {
   "metadata": {},
   "cell_type": "markdown",
   "source": "# Combine CG% and BP length with cluster df",
   "id": "92247e7299c47e59"
  },
  {
   "metadata": {},
   "cell_type": "code",
   "source": "df = pd.merge(cluster_df, cp_cg_df, on=\"Accession\", how=\"inner\")",
   "id": "5f98ddfa4adc7901",
   "outputs": [],
   "execution_count": null
  },
  {
   "metadata": {},
   "cell_type": "code",
   "source": [
    "print(df.size)\n",
    "df"
   ],
   "id": "475e4809a27e2bba",
   "outputs": [],
   "execution_count": null
  },
  {
   "metadata": {},
   "cell_type": "markdown",
   "source": "# Plot",
   "id": "feb814ca11c7f171"
  },
  {
   "metadata": {},
   "cell_type": "code",
   "source": [
    "fig = px.box(df, x=\"cluster\", y=\"SeqLen\", title=f'{organism} MGE clusters by plasmid length')\n",
    "fig.update_layout(\n",
    "    autosize=False,\n",
    "    width=1500,\n",
    "    height=400,\n",
    ")\n",
    "fig.show()"
   ],
   "id": "4eb0fe4a11846d02",
   "outputs": [],
   "execution_count": null
  },
  {
   "metadata": {},
   "cell_type": "code",
   "source": [
    "fig = px.box(df, x=\"cluster\", y=\"CG\", title=f'{organism} MGE clusters by CG%')\n",
    "fig.update_layout(\n",
    "    autosize=False,\n",
    "    width=1500,\n",
    "    height=400,\n",
    ")\n",
    "fig.show()"
   ],
   "id": "e804e2c1535f9279",
   "outputs": [],
   "execution_count": null
  }
 ],
 "metadata": {
  "kernelspec": {
   "display_name": "Python 3",
   "language": "python",
   "name": "python3"
  },
  "language_info": {
   "codemirror_mode": {
    "name": "ipython",
    "version": 2
   },
   "file_extension": ".py",
   "mimetype": "text/x-python",
   "name": "python",
   "nbconvert_exporter": "python",
   "pygments_lexer": "ipython2",
   "version": "2.7.6"
  }
 },
 "nbformat": 4,
 "nbformat_minor": 5
}
