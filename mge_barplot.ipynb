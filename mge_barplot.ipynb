{
 "cells": [
  {
   "metadata": {},
   "cell_type": "markdown",
   "source": "# Imports",
   "id": "4f7bec7535e1d8a"
  },
  {
   "metadata": {},
   "cell_type": "code",
   "source": [
    "import pandas as pd\n",
    "import plotly.express as px"
   ],
   "id": "initial_id",
   "outputs": [],
   "execution_count": null
  },
  {
   "metadata": {},
   "cell_type": "markdown",
   "source": "# File locations",
   "id": "8f4a0356a8cc2709"
  },
  {
   "metadata": {},
   "cell_type": "code",
   "source": [
    "# mge_cluster_result_file = \"results_shigella_flexneri/shigella-flexneri_results.csv\"\n",
    "# metadata_file = \"results_shigella_flexneri/metadata.csv\"\n",
    "# organism = \"Shigella flexneri\"\n",
    "\n",
    "mge_cluster_result_file = \"results_enterobacter/enterobacter_cloacae_results.csv\"\n",
    "metadata_file = \"results_enterobacter/metadata.csv\"\n",
    "organism = \"Enterobacter cloacae\""
   ],
   "id": "7f656b7989cd5cf3",
   "outputs": [],
   "execution_count": null
  },
  {
   "metadata": {},
   "cell_type": "markdown",
   "source": "# Reading MGE-cluster results",
   "id": "a41e27fcf7e8651d"
  },
  {
   "metadata": {},
   "cell_type": "code",
   "source": [
    "x = []\n",
    "y = []\n",
    "cluster = []\n",
    "mem_prob = []\n",
    "name = []\n",
    "accession = []\n",
    "\n",
    "with open(mge_cluster_result_file) as file:\n",
    "    header = file.readline()\n",
    "    print(header)\n",
    "    for line in file:\n",
    "        line = line.strip('\\n').split(',')\n",
    "        if line[0] == \"-\":\n",
    "            continue\n",
    "        x.append(float(line[0]))\n",
    "        y.append(float(line[1]))\n",
    "        cluster.append(int(line[2]))\n",
    "        mem_prob.append(float(line[3]))\n",
    "        name.append(str(line[4]))\n",
    "        accession.append(str(line[4].split(\"_\")[0]))\n",
    "        \n",
    "cluster_df = pd.DataFrame({\n",
    "        'x' : x,\n",
    "        'y' : y,\n",
    "        'cluster' : cluster,\n",
    "        'mem_prob' : mem_prob,\n",
    "        'name' : name,\n",
    "        'run_accession' : accession\n",
    "})"
   ],
   "id": "93279b97b17b63f6",
   "outputs": [],
   "execution_count": null
  },
  {
   "metadata": {},
   "cell_type": "code",
   "source": "cluster_df",
   "id": "77179ecc80d292cf",
   "outputs": [],
   "execution_count": null
  },
  {
   "metadata": {},
   "cell_type": "markdown",
   "source": "# Reading metadata",
   "id": "5e625098ee09a0b9"
  },
  {
   "metadata": {},
   "cell_type": "code",
   "source": [
    "metadata_df = pd.read_csv(metadata_file, sep=\",\")\n",
    "metadata_selection = metadata_df[\n",
    "    [\"run_accession\", \"scientific_name\", \"strain\", \"inferred_collection_year\", 'inferred_continent' , \"inferred_source\", \"inferred_country\",\n",
    "     \"inferred_city\", \"study_accession\", \"platform_parameters\"]]"
   ],
   "id": "60a4adf22cf624af",
   "outputs": [],
   "execution_count": null
  },
  {
   "metadata": {},
   "cell_type": "code",
   "source": "metadata_selection",
   "id": "726d14196876002b",
   "outputs": [],
   "execution_count": null
  },
  {
   "metadata": {},
   "cell_type": "markdown",
   "source": "# Merge results with metadata",
   "id": "3741627fcee9feb5"
  },
  {
   "metadata": {},
   "cell_type": "code",
   "source": "df = pd.merge(cluster_df, metadata_selection, on=\"run_accession\", how=\"inner\")",
   "id": "7a8a1f08a8f2d5f1",
   "outputs": [],
   "execution_count": null
  },
  {
   "metadata": {},
   "cell_type": "code",
   "source": "# df['inferred_source'] = df['inferred_source'].str.slice(0,20)",
   "id": "c9769e62da15e79",
   "outputs": [],
   "execution_count": null
  },
  {
   "metadata": {},
   "cell_type": "code",
   "source": "df",
   "id": "5ebbd16339d26aca",
   "outputs": [],
   "execution_count": null
  },
  {
   "metadata": {},
   "cell_type": "markdown",
   "source": "# Plotting",
   "id": "5ebbec56085fd1b3"
  },
  {
   "metadata": {},
   "cell_type": "markdown",
   "source": "### Countries",
   "id": "e18a0b784bdb2f76"
  },
  {
   "metadata": {},
   "cell_type": "code",
   "source": [
    "by_cluster = (df.groupby(\"cluster\").inferred_country.value_counts().unstack())\n",
    "by_cluster.fillna(int(0), inplace=True)\n",
    "by_cluster = by_cluster.convert_dtypes()\n",
    "by_cluster"
   ],
   "id": "d7e215d95f7186fe",
   "outputs": [],
   "execution_count": null
  },
  {
   "metadata": {},
   "cell_type": "code",
   "source": [
    "country_fig = px.bar(by_cluster, title=f'{organism} MGE clusters by country', labels={'value': 'Plasmid bin count', 'cluster': 'Cluster'}, color_discrete_sequence=px.colors.qualitative.Alphabet)\n",
    "country_fig.update_layout(height=800, width=1000)\n",
    "country_fig.show()"
   ],
   "id": "a744bc8558059735",
   "outputs": [],
   "execution_count": null
  },
  {
   "metadata": {},
   "cell_type": "code",
   "source": "country_fig.write_image(f\"country_{organism}.png\")",
   "id": "64ae6c7387f51cee",
   "outputs": [],
   "execution_count": null
  },
  {
   "metadata": {},
   "cell_type": "markdown",
   "source": "### Continent",
   "id": "d961692268107193"
  },
  {
   "metadata": {},
   "cell_type": "code",
   "source": [
    "by_cluster = (df.groupby(\"cluster\").inferred_continent.value_counts().unstack())\n",
    "by_cluster.fillna(int(0), inplace=True)\n",
    "by_cluster = by_cluster.convert_dtypes()\n",
    "by_cluster"
   ],
   "id": "ad8f288111313f84",
   "outputs": [],
   "execution_count": null
  },
  {
   "metadata": {},
   "cell_type": "code",
   "source": [
    "continent_fig = px.bar(by_cluster, title=f'{organism} MGE clusters by continent', labels={'value': 'Plasmid bin count', 'cluster': 'Cluster'}, color_discrete_sequence=px.colors.qualitative.Alphabet)\n",
    "continent_fig.update_layout(height=800, width=1000)\n",
    "continent_fig.show()"
   ],
   "id": "723b6af81e753c05",
   "outputs": [],
   "execution_count": null
  },
  {
   "metadata": {},
   "cell_type": "code",
   "source": "continent_fig.write_image(f\"continent_{organism}.png\")",
   "id": "31dc759ecf520985",
   "outputs": [],
   "execution_count": null
  },
  {
   "metadata": {},
   "cell_type": "markdown",
   "source": "### Source",
   "id": "2382ff29fd11b2dc"
  },
  {
   "metadata": {},
   "cell_type": "code",
   "source": [
    "by_cluster = (df.groupby(\"cluster\").inferred_source.value_counts().unstack())\n",
    "by_cluster.fillna(int(0), inplace=True)\n",
    "by_cluster = by_cluster.convert_dtypes()\n",
    "by_cluster"
   ],
   "id": "8ef3c6e740c8ac13",
   "outputs": [],
   "execution_count": null
  },
  {
   "metadata": {},
   "cell_type": "code",
   "source": [
    "source_fig = px.bar(by_cluster, title=f'{organism} MGE clusters by source', labels={'value': 'plasmid bin count', 'cluster': 'Cluster'}, color_discrete_sequence=px.colors.qualitative.G10)\n",
    "source_fig.update_layout(height=800, width=1000)\n",
    "source_fig.show()"
   ],
   "id": "fb814aca9bf30e23",
   "outputs": [],
   "execution_count": null
  },
  {
   "metadata": {},
   "cell_type": "code",
   "source": "source_fig.write_image(f\"source_{organism}.png\")",
   "id": "dc6af7a92ad16387",
   "outputs": [],
   "execution_count": null
  }
 ],
 "metadata": {
  "kernelspec": {
   "display_name": "Python 3",
   "language": "python",
   "name": "python3"
  },
  "language_info": {
   "codemirror_mode": {
    "name": "ipython",
    "version": 2
   },
   "file_extension": ".py",
   "mimetype": "text/x-python",
   "name": "python",
   "nbconvert_exporter": "python",
   "pygments_lexer": "ipython2",
   "version": "2.7.6"
  }
 },
 "nbformat": 4,
 "nbformat_minor": 5
}
