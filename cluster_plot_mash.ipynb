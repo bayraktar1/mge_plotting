{
 "cells": [
  {
   "cell_type": "code",
   "id": "initial_id",
   "metadata": {
    "collapsed": true
   },
   "source": [
    "import pandas as pd\n",
    "import numpy as np\n",
    "from sklearn.cluster import AgglomerativeClustering\n",
    "from workflow.wrangling_funcs import clean_string"
   ],
   "outputs": [],
   "execution_count": null
  },
  {
   "cell_type": "code",
   "source": [
    "edge_df = pd.read_csv(\"mashtriangle_edge.tsv\",sep=\"\\t\", names=[\"source\", \"target\", \"dist\", \"p-val\", \"shared-hases\"])\n",
    "\n",
    "idx = sorted(set(edge_df[\"source\"]).union(edge_df[\"target\"]))\n",
    "dist = (\n",
    "    edge_df.pivot(index=\"source\", columns=\"target\", values=\"dist\")\n",
    "    .reindex(index=idx, columns=idx)\n",
    "    .fillna(0, downcast=\"infer\")\n",
    "    .pipe(lambda x: x + x.values.T)\n",
    ")\n",
    "\n",
    "AC = AgglomerativeClustering(\n",
    "    n_clusters=None,\n",
    "    metric=\"precomputed\",\n",
    "    compute_full_tree=True,\n",
    "    linkage=\"single\",\n",
    "    distance_threshold=0.0001,\n",
    ")\n",
    "clusters = AC.fit_predict(np.array(dist))\n",
    "cluster_df = pd.DataFrame()\n",
    "cluster_df[\"path\"] = list(dist.index)\n",
    "cluster_df[\"cluster\"] = clusters"
   ],
   "metadata": {
    "collapsed": false
   },
   "id": "91c3577c91913136",
   "outputs": [],
   "execution_count": null
  },
  {
   "metadata": {},
   "cell_type": "code",
   "source": [
    "cluster_df['plasmid_bin'] = cluster_df['path'].str.split('/').str[-1]\n",
    "cluster_df['run_accession'] = cluster_df['plasmid_bin'].str.split('_').str[0]\n",
    "metadata_df = pd.read_csv(\"/home/bayraktar/PycharmProjects/reconstruct_plasmids_snakemake/metadata.csv\",sep=\",\")\n",
    "metadata_df['inferred_country'] = metadata_df['inferred_country'].apply(clean_string)\n",
    "relevant_df = metadata_df[['run_accession', 'taxon_id', 'scientific_name', 'strain', 'inferred_source','inferred_collection_year', 'inferred_continent', 'inferred_country', 'inferred_city']]\n",
    "merged = pd.merge(cluster_df, relevant_df, on=\"run_accession\", how='inner')"
   ],
   "id": "d182ffb040198024",
   "outputs": [],
   "execution_count": null
  },
  {
   "metadata": {},
   "cell_type": "code",
   "source": "merged",
   "id": "9b17ebbbac10355b",
   "outputs": [],
   "execution_count": null
  },
  {
   "metadata": {},
   "cell_type": "markdown",
   "source": "## Plot",
   "id": "4c1aa96939d0f45"
  },
  {
   "metadata": {},
   "cell_type": "code",
   "source": "# merged.groupby(['cluster']).size().reset_index(name='count')",
   "id": "b214975030b820a6",
   "outputs": [],
   "execution_count": null
  },
  {
   "metadata": {},
   "cell_type": "code",
   "source": [
    "counts = merged.groupby(['cluster']).size().reset_index(name='count')\n",
    "mask = counts['count'] >= 2\n",
    "large_cluster_names = counts[mask]['cluster'].tolist()"
   ],
   "id": "b2c4abb3fd23a98d",
   "outputs": [],
   "execution_count": null
  },
  {
   "metadata": {},
   "cell_type": "code",
   "source": [
    "merged_cols = merged[['cluster', 'inferred_country']]\n",
    "large_cluster = merged_cols.loc[merged_cols['cluster'].isin(large_cluster_names)]\n",
    "grouped = large_cluster.groupby(['cluster','inferred_country']).size().reset_index(name='count')\n",
    "grouped"
   ],
   "id": "a00f26f976c76474",
   "outputs": [],
   "execution_count": null
  },
  {
   "metadata": {},
   "cell_type": "code",
   "source": [
    "from collections import defaultdict\n",
    "dicto = defaultdict(dict)\n",
    "\n",
    "for country in set(grouped['inferred_country']):\n",
    "    dicto[country] = dict.fromkeys(grouped['cluster'], 0)\n",
    "\n",
    "for cluster, country, count in zip(grouped['cluster'], grouped['inferred_country'], grouped['count']):\n",
    "    dicto[country][cluster] += count\n",
    "\n",
    "dicto"
   ],
   "id": "5a720eb8f06e139f",
   "outputs": [],
   "execution_count": null
  },
  {
   "metadata": {},
   "cell_type": "code",
   "source": [
    "for a, b in dicto.items():\n",
    "    dicto[a] = list(b.values())\n",
    "dicto['cluster'] = large_cluster_names\n",
    "print(dicto)"
   ],
   "id": "4d6d1203b7d53042",
   "outputs": [],
   "execution_count": null
  },
  {
   "metadata": {},
   "cell_type": "code",
   "source": [
    "cluster = list(map(str, dicto['cluster']))\n",
    "countries = list(set(grouped['inferred_country'].tolist()))\n",
    "\n",
    "print(cluster)\n",
    "print(countries)"
   ],
   "id": "408d7970d1453ab0",
   "outputs": [],
   "execution_count": null
  },
  {
   "metadata": {},
   "cell_type": "code",
   "source": [
    "test = pd.DataFrame(dicto)\n",
    "test['cluster'] = test['cluster'].astype(str)\n",
    "test"
   ],
   "id": "366d4264a736b310",
   "outputs": [],
   "execution_count": null
  },
  {
   "metadata": {},
   "cell_type": "code",
   "source": [
    "merged['cluster'] = merged['cluster'].astype(str)\n",
    "years_per_cluster = merged.groupby('cluster')['inferred_collection_year'].unique()\n",
    "sample_source = merged.groupby('cluster')['inferred_source'].unique()\n",
    "sample_city = merged.groupby('cluster')['inferred_city'].unique()\n",
    "plasmid_bins = merged.groupby('cluster')['plasmid_bin'].unique()\n",
    "\n",
    "test2 = pd.merge(test, years_per_cluster, on=\"cluster\", how='inner')\n",
    "test2 = pd.merge(test2, sample_source, on=\"cluster\", how='inner')\n",
    "test2 = pd.merge(test2, sample_city, on=\"cluster\", how='inner')\n",
    "test2 = pd.merge(test2, plasmid_bins, on=\"cluster\", how='inner')\n",
    "test2"
   ],
   "id": "23ad9db2e66f090d",
   "outputs": [],
   "execution_count": null
  },
  {
   "metadata": {},
   "cell_type": "code",
   "source": [
    "from bokeh.palettes import Category20\n",
    "from bokeh.plotting import figure, show\n",
    "from bokeh.io import output_notebook\n",
    "\n",
    "output_notebook()\n",
    "\n",
    "palette = Category20[len(countries)]\n",
    "tooltips = [(column, f\"@{column}\\n\") for column in test2.columns]\n",
    "\n",
    "\n",
    "\n",
    "p = figure(x_range=test2.cluster, height=1000, width=1500, tooltips=tooltips)\n",
    "\n",
    "for idx, country in enumerate(countries):\n",
    "    p.vbar(x='cluster', top=country, width=0.9, source=test2,\n",
    "           color=palette[idx], legend_label=country)\n",
    "\n",
    "p.y_range.start = 0\n",
    "p.x_range.range_padding = 0.1\n",
    "p.xgrid.grid_line_color = None\n",
    "p.axis.minor_tick_line_color = None\n",
    "p.outline_line_color = None\n",
    "p.legend.location = \"top_right\"\n",
    "p.legend.orientation = \"horizontal\"\n",
    "\n",
    "show(p)\n"
   ],
   "id": "1fcfdf74d9501c10",
   "outputs": [],
   "execution_count": null
  }
 ],
 "metadata": {
  "kernelspec": {
   "display_name": "Python 3",
   "language": "python",
   "name": "python3"
  },
  "language_info": {
   "codemirror_mode": {
    "name": "ipython",
    "version": 2
   },
   "file_extension": ".py",
   "mimetype": "text/x-python",
   "name": "python",
   "nbconvert_exporter": "python",
   "pygments_lexer": "ipython2",
   "version": "2.7.6"
  }
 },
 "nbformat": 4,
 "nbformat_minor": 5
}
